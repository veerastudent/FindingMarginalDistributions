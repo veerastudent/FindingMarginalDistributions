{
  "metadata": {
    "language_info": {
      "codemirror_mode": {
        "name": "python",
        "version": 3
      },
      "file_extension": ".py",
      "mimetype": "text/x-python",
      "name": "python",
      "nbconvert_exporter": "python",
      "pygments_lexer": "ipython3",
      "version": "3.8"
    },
    "kernelspec": {
      "name": "python",
      "display_name": "Pyolite",
      "language": "python"
    }
  },
  "nbformat_minor": 4,
  "nbformat": 4,
  "cells": [
    {
      "cell_type": "code",
      "source": "import math\nimport numpy as np\npdf=[[0,0.01,0.03,0.05,0.07,0.09],[0.01,0.02,0.04,0.05,0.06,0.08],[0.01,0.03,0.05,0.05,0.05,0.06],[0.01,0.02,0.04,0.06,0.06,0.05]]\n\np_x=np.sum(pdf,axis=0)\np_y=np.sum(pdf,axis=1)\n\nx=[0,1,2,3,4,5]\ny=[0,1,2,3]\nE_x=np.inner(x,p_x)\nE_y=np.inner(y,p_y)\n\nE_x_2=np.inner(np.square(x),p_x)\nE_y_2=np.inner(np.square(y),p_y)\n\nvariance_x=E_x_2-E_x**2\nvariance_y=E_y_2-E_y**2\nsd_x=math.sqrt(variance_x)\nsd_y=math.sqrt(variance_y)\n\nE_x_y=0\nfor i in range(4):\n    for j in range(6):\n        E_x_y=E_x_y+x[j]*y[i]*pdf[i][j]\n        \nCovariance=E_x_y-(E_x*E_y)\nCovariance_coeff=Covariance/(sd_x*sd_y)\n\nimport pandas as pd\npdf_df=pd.DataFrame(pdf)\ndisplay(pdf_df)\nprint(\"Variance of X:\\t\\t\\t\\t\",variance_x)\nprint(\"Variance of Y:\\t\\t\\t\\t\",variance_y)\nprint(\"Standard deviation of X:\\t\\t\",sd_x)\nprint(\"Standard deviation of Y:\\t\\t\",sd_y)\nprint(\"Covariance:\\t\\t\\t\\t\",Covariance.round(4))\nprint(\"Covariance Coefficient of Corelation:\\t\",Covariance_coeff.round(4))",
      "metadata": {
        "trusted": true
      },
      "execution_count": 1,
      "outputs": [
        {
          "output_type": "display_data",
          "data": {
            "text/plain": "      0     1     2     3     4     5\n0  0.00  0.01  0.03  0.05  0.07  0.09\n1  0.01  0.02  0.04  0.05  0.06  0.08\n2  0.01  0.03  0.05  0.05  0.05  0.06\n3  0.01  0.02  0.04  0.06  0.06  0.05",
            "text/html": "<div>\n<style scoped>\n    .dataframe tbody tr th:only-of-type {\n        vertical-align: middle;\n    }\n\n    .dataframe tbody tr th {\n        vertical-align: top;\n    }\n\n    .dataframe thead th {\n        text-align: right;\n    }\n</style>\n<table border=\"1\" class=\"dataframe\">\n  <thead>\n    <tr style=\"text-align: right;\">\n      <th></th>\n      <th>0</th>\n      <th>1</th>\n      <th>2</th>\n      <th>3</th>\n      <th>4</th>\n      <th>5</th>\n    </tr>\n  </thead>\n  <tbody>\n    <tr>\n      <th>0</th>\n      <td>0.00</td>\n      <td>0.01</td>\n      <td>0.03</td>\n      <td>0.05</td>\n      <td>0.07</td>\n      <td>0.09</td>\n    </tr>\n    <tr>\n      <th>1</th>\n      <td>0.01</td>\n      <td>0.02</td>\n      <td>0.04</td>\n      <td>0.05</td>\n      <td>0.06</td>\n      <td>0.08</td>\n    </tr>\n    <tr>\n      <th>2</th>\n      <td>0.01</td>\n      <td>0.03</td>\n      <td>0.05</td>\n      <td>0.05</td>\n      <td>0.05</td>\n      <td>0.06</td>\n    </tr>\n    <tr>\n      <th>3</th>\n      <td>0.01</td>\n      <td>0.02</td>\n      <td>0.04</td>\n      <td>0.06</td>\n      <td>0.06</td>\n      <td>0.05</td>\n    </tr>\n  </tbody>\n</table>\n</div>"
          },
          "metadata": {}
        },
        {
          "name": "stdout",
          "text": "Variance of X:\t\t\t\t 1.9578999999999986\nVariance of Y:\t\t\t\t 1.2296\nStandard deviation of X:\t\t 1.399249798999449\nStandard deviation of Y:\t\t 1.108873302050329\nCovariance:\t\t\t\t -0.2572\nCovariance Coefficient of Corelation:\t -0.1658\n",
          "output_type": "stream"
        }
      ]
    },
    {
      "cell_type": "code",
      "source": "",
      "metadata": {},
      "execution_count": null,
      "outputs": []
    }
  ]
}